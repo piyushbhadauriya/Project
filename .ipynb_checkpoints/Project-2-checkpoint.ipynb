{
 "cells": [
  {
   "cell_type": "code",
   "execution_count": null,
   "metadata": {},
   "outputs": [],
   "source": [
    "import os\n",
    "from ipywidgets import FloatProgress\n",
    "from IPython.display import display\n",
    "import numpy as np\n",
    "import pandas as pd\n",
    "\n",
    "DATA_PATH = os.path.join('datasets','emnist')\n",
    "class Pbar:\n",
    "    pbar = None\n",
    "    @classmethod\n",
    "    def getPbar(cls,total_size):\n",
    "        if cls.pbar == None:\n",
    "#            print('Get new Progress Bar')\n",
    "            cls.pbar = FloatProgress(min=0, max=total_size)\n",
    "            display(cls.pbar)\n",
    "        return cls.pbar    \n",
    "    \n",
    "\n",
    "def get_data(file,path=DATA_PATH):\n",
    "    file_path = path+file\n",
    "    with open(file_path) as f:\n",
    "        print(\"Opening File ...\")\n",
    "        dataList = f.readlines()\n",
    "    pBar = Pbar.getPbar(len(dataList)/1000)\n",
    "    count = 0\n",
    "    for line in dataList:\n",
    "        line = line.strip().split(',')\n",
    "        target.append(line[0])\n",
    "        array = np.array(line[1:]).astype('int16')\n",
    "        data.append(array)\n",
    "        pBar.value = count/1000\n",
    "        count += 1\n",
    "    return target,data"
   ]
  },
  {
   "cell_type": "code",
   "execution_count": null,
   "metadata": {},
   "outputs": [],
   "source": [
    "train_label,train_data = get_data('/emnist-bymerge-train.csv')\n",
    "test_label,test_data = get_data('/emnist-bymerge-test.csv')\n",
    "print(train_label.head())\n",
    "print(train_data.head())"
   ]
  },
  {
   "cell_type": "code",
   "execution_count": 19,
   "metadata": {},
   "outputs": [
    {
     "name": "stdout",
     "output_type": "stream",
     "text": [
      "1\n"
     ]
    }
   ],
   "source": [
    "import matplotlib\n",
    "matplotlib.pyplot.hist(target)"
   ]
  },
  {
   "cell_type": "code",
   "execution_count": 28,
   "metadata": {},
   "outputs": [
    {
     "name": "stdout",
     "output_type": "stream",
     "text": [
      "[[  0   0   0   0   0   0   0   0   0   0   0   0   0   0   0   0   0   0\n",
      "    0   0   0   0   0   0   0   0   0   0]\n",
      " [  0   0   0   0   0   0   0   0   0   0   0   0   0   0   0   0   0   0\n",
      "    0   0   0   0   0   0   0   0   0   0]\n",
      " [  0   0   0   0   0   0   0   0   0   0   0   0   3  20  27   8   0   0\n",
      "    0   0   0   0   0   0   0   0   0   0]\n",
      " [  0   0   0   0   0   0   0   0   0   0   5  33  84 169 190 126  33   1\n",
      "    0   0   0   0   0   0   0   0   0   0]\n",
      " [  0   0   0   0   0   0   0   0   0   3  47 190 233 251 253 244 163  33\n",
      "    0   0   0   0   0   0   0   0   0   0]\n",
      " [  0   0   0   0   0   0   0   0  20  67 175 247 254 254 254 254 244 127\n",
      "   10   1   0   0   0   0   0   0   0   0]\n",
      " [  0   0   0   0   0   0   0   0  45 122 231 253 254 255 255 254 251 175\n",
      "   34   7   0   0   0   0   0   0   0   0]\n",
      " [  0   0   0   0   0   0   0   4 114 203 254 254 254 253 254 254 254 243\n",
      "  113  32   0   0   0   0   0   0   0   0]\n",
      " [  0   0   0   0   0   0   0  22 145 222 254 253 228 218 242 254 254 243\n",
      "  113  32   0   0   0   0   0   0   0   0]\n",
      " [  0   0   0   0   0   0   4 110 232 249 253 219 126 213 246 254 252 177\n",
      "   34   7   0   0   0   0   0   0   0   0]\n",
      " [  0   0   0   0   0   0  21 172 252 254 232  98  91 233 252 254 245 115\n",
      "    4   0   0   0   0   0   0   0   0   0]\n",
      " [  0   0   0   0   0   0  32 203 254 254 209  54 118 245 254 254 232  82\n",
      "    2   0   0   0   0   0   0   0   0   0]\n",
      " [  0   0   0   0   0   0  37 217 254 250 142  77 188 252 254 252 172  22\n",
      "    0   0   0   0   0   0   0   0   0   0]\n",
      " [  0   0   0   0   0   0  37 214 232 207 111 177 250 254 254 250 130   5\n",
      "    0   0   0   0   0   0   0   0   0   0]\n",
      " [  0   0   0   0   0   0  20 138  93  51 119 243 254 255 255 252 173  22\n",
      "    0   0   0   0   0   0   0   0   0   0]\n",
      " [  0   0   0   0   0   0   1  15   6   4  93 236 254 254 254 254 232 100\n",
      "   32  17   0   0   0   0   0   0   0   0]\n",
      " [  0   0   0   0   0   0   0   0   0   1  53 165 215 222 233 251 253 232\n",
      "  152  75   2   0   0   0   0   0   0   0]\n",
      " [  0   0   0   0   0   0   0   0   0   0  18  81 125 140 173 232 253 250\n",
      "  170  81   2   0   0   0   0   0   0   0]\n",
      " [  0   0   0   0   0   0   0   0   0   0   0   2   4   9  22 100 230 250\n",
      "  188 108   9   0   0   0   0   0   0   0]\n",
      " [  0   0   0   0   0   0   0   0   0   0   0   0   0   0   0  20 111 190\n",
      "  243 218  77   2   0   0   0   0   0   0]\n",
      " [  0   0   0   0   0   0   0   0   0   0   0   0   0   0   0   0   7 115\n",
      "  242 243 112   3   0   0   0   0   0   0]\n",
      " [  0   0   0   0   0   0   0   0   0   0   0   0   0   0   0   0   0  33\n",
      "  160 188  51   0   0   0   0   0   0   0]\n",
      " [  0   0   0   0   0   0   0   0   0   0   0   0   0   0   0   0   0   8\n",
      "   92 145  50   0   0   0   0   0   0   0]\n",
      " [  0   0   0   0   0   0   0   0   0   0   0   0   0   0   0   0   0   0\n",
      "   33 106 106   4   0   0   0   0   0   0]\n",
      " [  0   0   0   0   0   0   0   0   0   0   0   0   0   0   0   0   0   0\n",
      "    8  42 112  15   0   0   0   0   0   0]\n",
      " [  0   0   0   0   0   0   0   0   0   0   0   0   0   0   0   0   0   0\n",
      "    0   5  24   4   0   0   0   0   0   0]\n",
      " [  0   0   0   0   0   0   0   0   0   0   0   0   0   0   0   0   0   0\n",
      "    0   0   0   0   0   0   0   0   0   0]\n",
      " [  0   0   0   0   0   0   0   0   0   0   0   0   0   0   0   0   0   0\n",
      "    0   0   0   0   0   0   0   0   0   0]]\n",
      "784\n"
     ]
    }
   ],
   "source": [
    "print(data[0].reshape(28, 28))\n",
    "print(len(data[0]))"
   ]
  },
  {
   "cell_type": "code",
   "execution_count": 51,
   "metadata": {},
   "outputs": [
    {
     "data": {
      "image/png": "[encoded data removed]",
      "text/plain": [
       "<Figure size 432x288 with 1 Axes>"
      ]
     },
     "metadata": {},
     "output_type": "display_data"
    },
    {
     "name": "stdout",
     "output_type": "stream",
     "text": [
      "1\n"
     ]
    }
   ],
   "source": [
    "import matplotlib as mpl\n",
    "import matplotlib.pyplot as plt\n",
    "some_digit = data[0].reshape(28, 28)\n",
    "some_digit_image = np.transpose(some_digit)\n",
    "plt.imshow(some_digit_image, cmap = mpl.cm.binary, interpolation=\"nearest\")\n",
    "plt.axis(\"on\")\n",
    "plt.show()\n",
    "print(target[0])\n"
   ]
  },
  {
   "cell_type": "code",
   "execution_count": null,
   "metadata": {},
   "outputs": [],
   "source": []
  }
 ],
 "metadata": {
  "kernelspec": {
   "display_name": "Python 3",
   "language": "python",
   "name": "python3"
  },
  "language_info": {
   "codemirror_mode": {
    "name": "ipython",
    "version": 3
   },
   "file_extension": ".py",
   "mimetype": "text/x-python",
   "name": "python",
   "nbconvert_exporter": "python",
   "pygments_lexer": "ipython3",
   "version": "3.7.3"
  },
  "toc": {
   "base_numbering": 1,
   "nav_menu": {},
   "number_sections": true,
   "sideBar": true,
   "skip_h1_title": false,
   "title_cell": "Table of Contents",
   "title_sidebar": "Contents",
   "toc_cell": false,
   "toc_position": {},
   "toc_section_display": true,
   "toc_window_display": false
  }
 },
 "nbformat": 4,
 "nbformat_minor": 2
}
