{
 "cells": [
  {
   "cell_type": "code",
   "execution_count": 3,
   "metadata": {},
   "outputs": [],
   "source": [
    "# get the data set\n",
    "import os\n",
    "#import tarfile\n",
    "from zipfile import ZipFile \n",
    "from six.moves import urllib\n",
    "from ipywidgets import FloatProgress\n",
    "from IPython.display import display\n",
    "\n",
    "class Pbar:\n",
    "    pbar = None\n",
    "    @classmethod\n",
    "    def getPbar(cls,total_size):\n",
    "        if cls.pbar == None:\n",
    "#            print('Get new Progress Bar')\n",
    "            cls.pbar = FloatProgress(min=0, max=total_size)\n",
    "            display(cls.pbar)\n",
    "        return cls.pbar\n",
    "            \n",
    "\n",
    "def show_progress(count, block_size, total_size):\n",
    "    #print(count, block_size, total_size)\n",
    "    pBar = Pbar.getPbar(total_size/block_size)\n",
    "    pBar.value = count\n",
    "    \n",
    "DOWNLOAD_ROOT = \"https://storage.googleapis.com/ml_data_pib/\"\n",
    "DATA_PATH = os.path.join(\"datasets\", \"emnist\")\n",
    "DATA_URL = DOWNLOAD_ROOT + \"char_recognition/emnist.zip\"\n",
    "def fetch_data(data_url=DATA_URL, data_path=DATA_PATH):\n",
    "    if not os.path.isdir(data_path):\n",
    "        os.makedirs(data_path)\n",
    "    zip_path = os.path.join(data_path, \"emnist.zip\")\n",
    "    if not os.path.isfile(zip_path):\n",
    "        urllib.request.urlretrieve(data_url, zip_path, show_progress)\n",
    "    else:\n",
    "        print(\"Data file already exist\")\n",
    "        \n",
    "    with ZipFile(zip_path, 'r') as zip:\n",
    "        print('Extracting all the files now...') \n",
    "        zip.extractall(data_path)\n",
    "        print('Done!')\n",
    "        zip.printdir() \n",
    "\n"
   ]
  },
  {
   "cell_type": "code",
   "execution_count": 95,
   "metadata": {},
   "outputs": [
    {
     "name": "stdout",
     "output_type": "stream",
     "text": [
      "Data file already exist\n"
     ]
    }
   ],
   "source": [
    "#https://www.kaggle.com/crawford/emnist/downloads/emnist.zip/3\n",
    "fetch_data()"
   ]
  },
  {
   "cell_type": "code",
   "execution_count": 1,
   "metadata": {},
   "outputs": [],
   "source": [
    "# Not Text data use numpy array\n",
    "#DATA_PATH = os.path.join(\"datasets\", \"emnist\")\n",
    "# import pandas as pd\n",
    "# def load_data(data_path=DATA_PATH):\n",
    "#     csv_path = os.path.join(data_path, \"emnist-letters-train.csv\")\n",
    "#     return pd.read_csv(csv_path)\n",
    "\n",
    "# data = load_data()\n",
    "# data.head()"
   ]
  },
  {
   "cell_type": "code",
   "execution_count": 2,
   "metadata": {},
   "outputs": [],
   "source": [
    "# data.info()"
   ]
  },
  {
   "cell_type": "code",
   "execution_count": 3,
   "metadata": {},
   "outputs": [],
   "source": [
    "# from ipywidgets import FloatProgress\n",
    "# from IPython.display import display\n",
    "# import time\n",
    "# class Pbar:\n",
    "#     pbar = None\n",
    "#     @classmethod\n",
    "#     def getPbar(cls,total_size):\n",
    "#         if cls.pbar == None:\n",
    "#             print('Get new Progress Bar')\n",
    "#             cls.pbar = FloatProgress(min=0, max=total_size)\n",
    "#             display(cls.pbar)\n",
    "#         return cls.pbar\n",
    "            \n",
    "\n",
    "# def show_progress(count, block_size, total_size):\n",
    "#     pBar = Pbar.getPbar(total_size/8192)\n",
    "#     pBar.value = count\n",
    "#     print(pBar)\n",
    "\n",
    "# for i in range(1335870000):\n",
    "#     show_progress(i,0,1335870000)\n",
    "\n",
    "#------------------------------------------------------------------#\n",
    "# zip_path = os.path.join(DATA_PATH, \"emnist.zip\")\n",
    "# if not os.path.isfile(zip_path):\n",
    "#     print(\"not found\")\n",
    "\n",
    "#------------------------------------------------------------------#\n"
   ]
  },
  {
   "cell_type": "code",
   "execution_count": 4,
   "metadata": {},
   "outputs": [],
   "source": [
    "# #data['23']\n",
    "# data.describe()"
   ]
  },
  {
   "cell_type": "code",
   "execution_count": 5,
   "metadata": {},
   "outputs": [],
   "source": [
    "# # %matplotlib inline\n",
    "# # import matplotlib.pyplot as plt \n",
    "# # data.hist(bins=50, figsize=(200,150)) \n",
    "# # plt.show()\n",
    "# data.info()\n"
   ]
  },
  {
   "cell_type": "code",
   "execution_count": 6,
   "metadata": {},
   "outputs": [],
   "source": [
    "\n",
    "# def split_train_test(data, test_ratio):\n",
    "#     shuffled_indices = np.random.permutation(len(data))\n",
    "#     test_set_size = int(len(data) * test_ratio)\n",
    "#     test_indices = shuffled_indices[:test_set_size]\n",
    "#     train_indices = shuffled_indices[test_set_size:]\n",
    "# return data.iloc[train_indices], data.iloc[test_indices]"
   ]
  },
  {
   "cell_type": "code",
   "execution_count": null,
   "metadata": {},
   "outputs": [],
   "source": [
    "# load dataset\n",
    "import os\n",
    "import numpy as np\n",
    "DATA_PATH = os.path.join(\"datasets\", \"emnist\",'emnist-byclass-train.csv')\n",
    "dataset = np.loadtxt(DATA_PATH, delimiter=',')\n",
    "# split into input and output variables\n",
    "# DATA_PATH2 = os.path.join(\"datasets\", \"emnist\",'emnist-byclass-test.csv')\n",
    "# dataset_test = np.loadtxt(DATA_PATH2, delimiter=',')"
   ]
  },
  {
   "cell_type": "code",
   "execution_count": null,
   "metadata": {},
   "outputs": [],
   "source": []
  }
 ],
 "metadata": {
  "kernelspec": {
   "display_name": "Python 3",
   "language": "python",
   "name": "python3"
  },
  "language_info": {
   "codemirror_mode": {
    "name": "ipython",
    "version": 3
   },
   "file_extension": ".py",
   "mimetype": "text/x-python",
   "name": "python",
   "nbconvert_exporter": "python",
   "pygments_lexer": "ipython3",
   "version": "3.6.8"
  },
  "toc": {
   "base_numbering": 1,
   "nav_menu": {},
   "number_sections": true,
   "sideBar": true,
   "skip_h1_title": false,
   "title_cell": "Table of Contents",
   "title_sidebar": "Contents",
   "toc_cell": false,
   "toc_position": {},
   "toc_section_display": true,
   "toc_window_display": false
  }
 },
 "nbformat": 4,
 "nbformat_minor": 2
}
